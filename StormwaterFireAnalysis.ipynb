{
 "cells": [
  {
   "cell_type": "markdown",
   "metadata": {
    "collapsed": true,
    "pycharm": {
     "name": "#%% md\n"
    }
   },
   "source": [
    "# Stormwater Quality Data\n",
    "\n",
    "(See README.md for the current project status)\n",
    "\n",
    "PAHs and metals are known to travel into waterways after\n",
    "wildfires, and this effect should be evident in the stormwater\n",
    "data from Ventura and Sonoma Counties. Here, we will explore\n",
    "the effects of three (maybe four) fires &mdash; the Thomas,\n",
    "Maria, Hill, and (Maybe) Tubbs fires &mdash; on the monitoring\n",
    "stations nearby before and after.\n",
    "\n",
    "First... importing everything:"
   ]
  },
  {
   "cell_type": "code",
   "execution_count": 1,
   "outputs": [
    {
     "name": "stdout",
     "output_type": "stream",
     "text": [
      "Import Complete!\n"
     ]
    }
   ],
   "source": [
    "import pandas as pd\n",
    "import matplotlib.pyplot as plt\n",
    "from UsefulThings import linePlotAllTheThings, allTheDataFrames\n",
    "from matplotlib.dates import YearLocator\n",
    "\n",
    "print(\"Import Complete!\")"
   ],
   "metadata": {
    "collapsed": false,
    "pycharm": {
     "name": "#%%\n"
    }
   }
  },
  {
   "cell_type": "markdown",
   "source": [
    "Chronologically, the first fire is the Tubbs fire, which\n",
    "started on October 9, 2017, and ended on October 31, 2017."
   ],
   "metadata": {
    "collapsed": false
   }
  },
  {
   "cell_type": "code",
   "execution_count": 2,
   "outputs": [
    {
     "name": "stdout",
     "output_type": "stream",
     "text": [
      "Tubbs-relevant station data is pending.\n"
     ]
    }
   ],
   "source": [
    "print('Tubbs-relevant station data is pending.')"
   ],
   "metadata": {
    "collapsed": false,
    "pycharm": {
     "name": "#%%\n"
    }
   }
  },
  {
   "cell_type": "markdown",
   "source": [
    "The second fire is the Thomas fire, burning from December 5,\n",
    "2017 to January 12, 2018. The relevant stations are ME-VR2,\n",
    "MO-FIL, and MO-SPA.\n",
    "\n",
    "![Thomas Fire](data/firedata/googleearthimages/thomasfire.png)"
   ],
   "metadata": {
    "collapsed": false
   }
  },
  {
   "cell_type": "code",
   "execution_count": 3,
   "outputs": [
    {
     "name": "stdout",
     "output_type": "stream",
     "text": [
      "Placeholder text.\n"
     ]
    }
   ],
   "source": [
    "ME_VR2 = allTheDataFrames[13]\n",
    "MO_FIL = allTheDataFrames[1]\n",
    "MO_SPA = allTheDataFrames[8]\n",
    "print('Placeholder text.')"
   ],
   "metadata": {
    "collapsed": false,
    "pycharm": {
     "name": "#%%\n"
    }
   }
  },
  {
   "cell_type": "markdown",
   "source": [
    "The third fire is the Hill fire, which burned from November 8\n",
    "to November 16, 2018. The relevant stations are MO-THO and\n",
    "ME-CC.\n",
    "\n",
    "![Hill Fire](data/firedata/googleearthimages/hillfire.png)"
   ],
   "metadata": {
    "collapsed": false
   }
  },
  {
   "cell_type": "code",
   "execution_count": 4,
   "outputs": [
    {
     "name": "stdout",
     "output_type": "stream",
     "text": [
      "Placeholder text.\n"
     ]
    }
   ],
   "source": [
    "MO_THO = allTheDataFrames[9]\n",
    "ME_CC = allTheDataFrames[11]\n",
    "print('Placeholder text.')"
   ],
   "metadata": {
    "collapsed": false,
    "pycharm": {
     "name": "#%%\n"
    }
   }
  },
  {
   "cell_type": "markdown",
   "source": [
    "The fourth fire is the Maria fire, which burned from October 31\n",
    "to November 4, 2019. The relevant stations are ME-SCR and\n",
    "MO-SPA.\n",
    "\n",
    "![Maria Fire](data/firedata/googleearthimages/mariafire.png)"
   ],
   "metadata": {
    "collapsed": false
   }
  },
  {
   "cell_type": "code",
   "execution_count": 5,
   "outputs": [
    {
     "name": "stdout",
     "output_type": "stream",
     "text": [
      "Placeholder text.\n"
     ]
    }
   ],
   "source": [
    "ME_SCR = allTheDataFrames[12]\n",
    "print(\"Placeholder text.\")"
   ],
   "metadata": {
    "collapsed": false,
    "pycharm": {
     "name": "#%%\n"
    }
   }
  }
 ],
 "metadata": {
  "kernelspec": {
   "display_name": "Python 3",
   "language": "python",
   "name": "python3"
  },
  "language_info": {
   "codemirror_mode": {
    "name": "ipython",
    "version": 2
   },
   "file_extension": ".py",
   "mimetype": "text/x-python",
   "name": "python",
   "nbconvert_exporter": "python",
   "pygments_lexer": "ipython2",
   "version": "2.7.6"
  }
 },
 "nbformat": 4,
 "nbformat_minor": 0
}